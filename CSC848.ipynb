{
 "cells": [
  {
   "cell_type": "code",
   "execution_count": 1,
   "metadata": {},
   "outputs": [],
   "source": [
    "from owlready2 import *"
   ]
  },
  {
   "cell_type": "code",
   "execution_count": 3,
   "metadata": {},
   "outputs": [],
   "source": [
    "action_owl = \"/Users/oluwaseuncardoso/Desktop/School/ClassWork/CS848/ontologies/lkif-core-master/legal-action.owl\"\n",
    "bacteria_owl = \"http://lesfleursdunormal.fr/static/_downloads/bacteria.owl\"\n",
    "\n",
    "onto_bacteria = get_ontology(bacteria_owl).load()\n",
    "onto_legal =  get_ontology(action_owl).load()\n",
    "\n",
    "#TODO  I may need to pull edit all the ontologies to such that each url resolves to an actual site."
   ]
  },
  {
   "cell_type": "code",
   "execution_count": 6,
   "metadata": {},
   "outputs": [
    {
     "data": {
      "text/plain": [
       "get_ontology(\"https://raw.githubusercontent.com/RinkeHoekstra/lkif-core/master/legal-action.owl#\")"
      ]
     },
     "execution_count": 6,
     "metadata": {},
     "output_type": "execute_result"
    }
   ],
   "source": [
    "onto_legal.load(reload = True)"
   ]
  },
  {
   "cell_type": "code",
   "execution_count": 10,
   "metadata": {},
   "outputs": [
    {
     "data": {
      "text/plain": [
       "[legal-action.Limited_Company,\n",
       " legal-action.Unincorporated,\n",
       " legal-action.Company,\n",
       " legal-action.Private_Legal_Person,\n",
       " legal-action.Public_Body,\n",
       " legal-action.Legal_Person,\n",
       " legal-action.Society,\n",
       " legal-action.Association,\n",
       " legal-action.Natural_Person,\n",
       " legal-action.Mandate,\n",
       " legal-action.Public_Act,\n",
       " legal-action.Corporation,\n",
       " legal-action.Foundation,\n",
       " legal-action.Incorporated,\n",
       " legal-action.Co-operative,\n",
       " legal-action.Legislative_Body,\n",
       " legal-action.Delegation,\n",
       " legal-action.Legal_Speech_Act,\n",
       " legal-action.Public_Limited_Company,\n",
       " legal-action.Decision,\n",
       " legal-action.Act_of_Law,\n",
       " legal-action.Assignment]"
      ]
     },
     "execution_count": 10,
     "metadata": {},
     "output_type": "execute_result"
    }
   ],
   "source": [
    "list(onto_legal.classes())"
   ]
  },
  {
   "cell_type": "code",
   "execution_count": 9,
   "metadata": {},
   "outputs": [
    {
     "ename": "ModuleNotFoundError",
     "evalue": "No module named 'numpy'",
     "output_type": "error",
     "traceback": [
      "\u001b[0;31m---------------------------------------------------------------------------\u001b[0m",
      "\u001b[0;31mModuleNotFoundError\u001b[0m                       Traceback (most recent call last)",
      "Cell \u001b[0;32mIn[9], line 1\u001b[0m\n\u001b[0;32m----> 1\u001b[0m \u001b[39mimport\u001b[39;00m \u001b[39mnumpy\u001b[39;00m \u001b[39mas\u001b[39;00m \u001b[39mnp\u001b[39;00m\n",
      "\u001b[0;31mModuleNotFoundError\u001b[0m: No module named 'numpy'"
     ]
    }
   ],
   "source": [
    "import numpy as np"
   ]
  },
  {
   "cell_type": "code",
   "execution_count": null,
   "metadata": {},
   "outputs": [],
   "source": [
    "!python -m pip install jupyter notebook -U\n"
   ]
  },
  {
   "cell_type": "code",
   "execution_count": null,
   "metadata": {},
   "outputs": [],
   "source": []
  }
 ],
 "metadata": {
  "kernelspec": {
   "display_name": "Python 3.9.6 ('venv': venv)",
   "language": "python",
   "name": "python3"
  },
  "language_info": {
   "codemirror_mode": {
    "name": "ipython",
    "version": 3
   },
   "file_extension": ".py",
   "mimetype": "text/x-python",
   "name": "python",
   "nbconvert_exporter": "python",
   "pygments_lexer": "ipython3",
   "version": "3.9.6"
  },
  "orig_nbformat": 4,
  "vscode": {
   "interpreter": {
    "hash": "5c3c943ed792ff4a13ae106ca38f5abb9c05605cc1d0ff45d501d160c96b0e73"
   }
  }
 },
 "nbformat": 4,
 "nbformat_minor": 2
}
